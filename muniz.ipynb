{
 "cells": [
  {
   "cell_type": "code",
   "execution_count": 6,
   "metadata": {},
   "outputs": [],
   "source": [
    "import sqlite3\n",
    "import pandas as pd\n",
    "import os"
   ]
  },
  {
   "cell_type": "code",
   "execution_count": 5,
   "metadata": {},
   "outputs": [
    {
     "name": "stdout",
     "output_type": "stream",
     "text": [
      "['formula-1.db']\n"
     ]
    }
   ],
   "source": [
    "print(os.listdir(\"./formula_1\"))"
   ]
  },
  {
   "cell_type": "code",
   "execution_count": 233,
   "metadata": {},
   "outputs": [],
   "source": [
    "# Criando a conexao\n",
    "cnx = sqlite3.connect('./formula_1/formula-1.db')\n",
    "\n"
   ]
  },
  {
   "cell_type": "code",
   "execution_count": 234,
   "metadata": {},
   "outputs": [
    {
     "name": "stdout",
     "output_type": "stream",
     "text": [
      "               apelido  qtd_corridas  total_pontos      media\n",
      "0             hamilton           191        2501.0  13.000000\n",
      "1               vettel           191        2419.0  12.000000\n",
      "2              rosberg           171        1570.5   9.184211\n",
      "3               webber           112         968.5   8.647321\n",
      "4               alonso           188        1359.0   7.000000\n",
      "5            raikkonen           151        1109.0   7.000000\n",
      "6               bottas            98         716.0   7.000000\n",
      "7       max_verstappen            60         421.0   7.000000\n",
      "8            ricciardo           129         816.0   6.000000\n",
      "9                massa           183         966.0   5.000000\n",
      "10              button           172        1006.0   5.000000\n",
      "11              kubica            54         228.0   4.000000\n",
      "12               perez           136         467.0   3.000000\n",
      "13  michael_schumacher            58         197.0   3.000000\n",
      "14                ocon            29          87.0   3.000000\n",
      "15          hulkenberg           137         405.0   2.000000\n",
      "16            grosjean           124         344.0   2.000000\n",
      "17               resta            59         121.0   2.000000\n",
      "18            heidfeld            51         119.0   2.000000\n",
      "19              stroll            20          40.0   2.000000\n"
     ]
    }
   ],
   "source": [
    "#Etapa1\n",
    "#Pontuação média dos 20 melhores pilotos das últimas 10 temporadas -- media de pontos por corrida\n",
    "q1 = pd.read_sql_query(\"SELECT apelido, count(corrida_id) as qtd_corridas, sum(pontuacao) as total_pontos, sum(pontuacao)/count(corrida_id) as media  FROM Corrida inner join resultado on corrida.id = resultado.corrida_id inner join piloto on resultado.piloto_id = piloto.id where temporada_ano between 2008 and 2017 group by apelido order by media desc, qtd_corridas desc limit 20 \", cnx )\n",
    "print(q1)\n",
    "\n"
   ]
  },
  {
   "cell_type": "code",
   "execution_count": 151,
   "metadata": {},
   "outputs": [
    {
     "name": "stdout",
     "output_type": "stream",
     "text": [
      "               apelido  total_pontos  qtd_temporada       media\n",
      "0             hamilton        2501.0             10  250.000000\n",
      "1               vettel        2419.0             10  241.000000\n",
      "2              rosberg        1570.5              9  174.500000\n",
      "3               webber         968.5              6  161.416667\n",
      "4               bottas         716.0              5  143.000000\n",
      "5       max_verstappen         421.0              3  140.000000\n",
      "6            raikkonen        1109.0              8  138.000000\n",
      "7               alonso        1359.0             10  135.000000\n",
      "8            ricciardo         816.0              7  116.000000\n",
      "9               button        1006.0             10  100.000000\n",
      "10               massa         966.0             10   96.000000\n",
      "11              kubica         228.0              3   76.000000\n",
      "12               perez         467.0              7   66.000000\n",
      "13  michael_schumacher         197.0              3   65.000000\n",
      "14          hulkenberg         405.0              7   57.000000\n",
      "15            grosjean         344.0              7   49.000000\n",
      "16                ocon          87.0              2   43.000000\n",
      "17              stroll          40.0              1   40.000000\n",
      "18               sainz         118.0              3   39.000000\n",
      "19         barrichello         139.0              4   34.000000\n"
     ]
    }
   ],
   "source": [
    "#Etapa1\n",
    "#Pontuação média dos 20 melhores pilotos das últimas 10 temporadas -- media de pontos por temporada\n",
    "q1b = pd.read_sql_query(\"SELECT apelido,sum(pontuacao) as total_pontos, count( distinct temporada_ano) as qtd_temporada, sum(pontuacao)/count( distinct temporada_ano) as media  FROM Corrida inner join resultado on corrida.id = resultado.corrida_id inner join piloto on resultado.piloto_id = piloto.id where temporada_ano between 2008 and 2017 group by apelido order by media desc, qtd_temporada desc limit 20 \", cnx )\n",
    "print(q1b)\n",
    "\n"
   ]
  },
  {
   "cell_type": "code",
   "execution_count": 88,
   "metadata": {},
   "outputs": [
    {
     "name": "stdout",
     "output_type": "stream",
     "text": [
      "    temporada_ano  rodada                      nome  qtd_equipe_podio\n",
      "0            1950       2         Monaco Grand Prix                 3\n",
      "1            1950       4          Swiss Grand Prix                 3\n",
      "2            1950       5        Belgian Grand Prix                 3\n",
      "3            1950       7        Italian Grand Prix                 3\n",
      "4            1951       2          Indianapolis 500                 3\n",
      "5            1951       3        Belgian Grand Prix                 3\n",
      "6            1951       5        British Grand Prix                 3\n",
      "7            1952       2          Indianapolis 500                 3\n",
      "8            1952       4         French Grand Prix                 3\n",
      "9            1952       5        British Grand Prix                 3\n",
      "10           1952       7          Dutch Grand Prix                 3\n",
      "11           1953       4        Belgian Grand Prix                 3\n",
      "12           1953       9        Italian Grand Prix                 3\n",
      "13           1954       1      Argentine Grand Prix                 3\n",
      "14           1954       3        Belgian Grand Prix                 3\n",
      "15           1954       4         French Grand Prix                 3\n",
      "16           1954       5        British Grand Prix                 3\n",
      "17           1954       6         German Grand Prix                 3\n",
      "18           1954       7          Swiss Grand Prix                 3\n",
      "19           1955       1      Argentine Grand Prix                 3\n",
      "20           1955       4        Belgian Grand Prix                 3\n",
      "21           1955       5          Dutch Grand Prix                 3\n",
      "22           1955       7        Italian Grand Prix                 3\n",
      "23           1956       2         Monaco Grand Prix                 3\n",
      "24           1956       3          Indianapolis 500                 3\n",
      "25           1956       4        Belgian Grand Prix                 3\n",
      "26           1956       6        British Grand Prix                 3\n",
      "27           1956       8        Italian Grand Prix                 3\n",
      "28           1957       3          Indianapolis 500                 3\n",
      "29           1957       5        British Grand Prix                 3\n",
      "..            ...     ...                       ...               ...\n",
      "48           1960      10  United States Grand Prix                 3\n",
      "49           1961       2          Dutch Grand Prix                 3\n",
      "50           1961       3        Belgian Grand Prix                 3\n",
      "51           1961       5        British Grand Prix                 3\n",
      "52           1961       6         German Grand Prix                 3\n",
      "53           1964       6         German Grand Prix                 3\n",
      "54           1964      10        Mexican Grand Prix                 3\n",
      "55           1966       2        Belgian Grand Prix                 3\n",
      "56           1967       3          Dutch Grand Prix                 3\n",
      "57           1967       5         French Grand Prix                 3\n",
      "58           1967      10  United States Grand Prix                 3\n",
      "59           1969       1  South African Grand Prix                 3\n",
      "60           1969       3         Monaco Grand Prix                 3\n",
      "61           1970       2        Spanish Grand Prix                 3\n",
      "62           1973       6         Monaco Grand Prix                 3\n",
      "63           1974       8          Dutch Grand Prix                 3\n",
      "64           1980      14  United States Grand Prix                 3\n",
      "65           1982       1  South African Grand Prix                 3\n",
      "66           1986       8         French Grand Prix                 3\n",
      "67           1988       4        Mexican Grand Prix                 3\n",
      "68           1990      13     Portuguese Grand Prix                 3\n",
      "69           1993      15       Japanese Grand Prix                 3\n",
      "70           1994       6       Canadian Grand Prix                 3\n",
      "71           1995      15        Pacific Grand Prix                 3\n",
      "72           1996       9         French Grand Prix                 3\n",
      "73           1996      15     Portuguese Grand Prix                 3\n",
      "74           1998       7       Canadian Grand Prix                 3\n",
      "75           2001       9       European Grand Prix                 3\n",
      "76           2001      17       Japanese Grand Prix                 3\n",
      "77           2005       9  United States Grand Prix                 3\n",
      "\n",
      "[78 rows x 4 columns]\n"
     ]
    }
   ],
   "source": [
    "#Etapa1\n",
    "#Todas as corridas onde apenas 3 equipes pontuaram\n",
    "q2 = pd.read_sql_query(\"SELECT corrida.temporada_ano, corrida.rodada, corrida.nome, count(distinct equipe_id) as qtd_equipe_podio  FROM resultado inner join corrida on resultado.corrida_id = corrida.id where pontuacao > 0  group by corrida.temporada_ano, corrida.rodada, corrida.nome having count(distinct equipe_id) = 3 order by corrida.temporada_ano asc, corrida.rodada asc\", cnx )\n",
    "print(q2)\n"
   ]
  },
  {
   "cell_type": "code",
   "execution_count": 104,
   "metadata": {},
   "outputs": [
    {
     "name": "stdout",
     "output_type": "stream",
     "text": [
      "   temporada_ano  duracao      nome    sobrenome            nome\n",
      "0           2011   12.897    Pastor    Maldonado        Williams\n",
      "1           2012   13.199   Michael   Schumacher        Mercedes\n",
      "2           2013   13.266    Pastor    Maldonado        Williams\n",
      "3           2014   16.120    Romain     Grosjean        Lotus F1\n",
      "4           2015   16.128  Fernando       Alonso         McLaren\n",
      "5           2016   16.218       Rio     Haryanto  Manor Marussia\n",
      "6           2017   14.943      Kimi  RÌ_ikkÌ¦nen         Ferrari\n"
     ]
    }
   ],
   "source": [
    "#Etapa1\n",
    "#Melhor tempo de Pitstop e equipe que executou e piloto que estava no carro por temporada\n",
    "q3 = pd.read_sql_query(\"SELECT corrida.temporada_ano, min(tempo_por_parada.duracao) as duracao, piloto.nome, piloto.sobrenome , equipe.nome FROM tempo_por_parada inner join corrida on corrida.id = tempo_por_parada.corrida_id inner join resultado on tempo_por_parada.corrida_id = resultado.corrida_id and tempo_por_parada.piloto_id = resultado.piloto_id inner join piloto on tempo_por_parada.piloto_id = piloto.id inner join equipe on  resultado.equipe_id = equipe.id   group by temporada_ano \", cnx )\n",
    "print(q3)\n"
   ]
  },
  {
   "cell_type": "code",
   "execution_count": 106,
   "metadata": {},
   "outputs": [
    {
     "name": "stdout",
     "output_type": "stream",
     "text": [
      "    temporada_ano  duracao            nome\n",
      "0            2011   14.919         Ferrari\n",
      "1            2011   14.538     Force India\n",
      "2            2011   14.160             HRT\n",
      "3            2011   20.652           Lotus\n",
      "4            2011   13.173         McLaren\n",
      "5            2011   19.534        Mercedes\n",
      "6            2011   19.525        Red Bull\n",
      "7            2011   12.959         Renault\n",
      "8            2011   13.201          Sauber\n",
      "9            2011   20.360      Toro Rosso\n",
      "10           2011   13.914          Virgin\n",
      "11           2011   12.897        Williams\n",
      "12           2012   14.250        Caterham\n",
      "13           2012   13.259         Ferrari\n",
      "14           2012   14.128     Force India\n",
      "15           2012   14.780             HRT\n",
      "16           2012   17.735        Lotus F1\n",
      "17           2012   13.981        Marussia\n",
      "18           2012   16.831         McLaren\n",
      "19           2012   13.199        Mercedes\n",
      "20           2012   13.335        Red Bull\n",
      "21           2012   13.986          Sauber\n",
      "22           2012   14.641      Toro Rosso\n",
      "23           2012   13.206        Williams\n",
      "24           2013   17.339        Caterham\n",
      "25           2013   17.367         Ferrari\n",
      "26           2013   14.489     Force India\n",
      "27           2013   16.453        Lotus F1\n",
      "28           2013   17.427        Marussia\n",
      "29           2013   17.378         McLaren\n",
      "..            ...      ...             ...\n",
      "47           2015   16.958     Force India\n",
      "48           2015   16.444        Lotus F1\n",
      "49           2015   17.116  Manor Marussia\n",
      "50           2015   16.128         McLaren\n",
      "51           2015   16.579        Mercedes\n",
      "52           2015   16.453        Red Bull\n",
      "53           2015   16.211          Sauber\n",
      "54           2015   16.415      Toro Rosso\n",
      "55           2015   16.427        Williams\n",
      "56           2016   18.455         Ferrari\n",
      "57           2016   16.227     Force India\n",
      "58           2016   16.475    Haas F1 Team\n",
      "59           2016   16.218  Manor Marussia\n",
      "60           2016   16.486         McLaren\n",
      "61           2016   16.983        Mercedes\n",
      "62           2016   17.165        Red Bull\n",
      "63           2016   16.851         Renault\n",
      "64           2016   16.419          Sauber\n",
      "65           2016   18.636      Toro Rosso\n",
      "66           2016   17.388        Williams\n",
      "67           2017   14.943         Ferrari\n",
      "68           2017   14.951     Force India\n",
      "69           2017   15.073    Haas F1 Team\n",
      "70           2017   15.097         McLaren\n",
      "71           2017   14.978        Mercedes\n",
      "72           2017   15.135        Red Bull\n",
      "73           2017   15.638         Renault\n",
      "74           2017   17.341          Sauber\n",
      "75           2017   14.966      Toro Rosso\n",
      "76           2017   15.033        Williams\n",
      "\n",
      "[77 rows x 3 columns]\n"
     ]
    }
   ],
   "source": [
    "#Etapa1\n",
    "#Melhor tempo de Pitstop por equipe por temporada\n",
    "q4 = pd.read_sql_query(\"SELECT corrida.temporada_ano, min(tempo_por_parada.duracao) as duracao, equipe.nome FROM tempo_por_parada inner join corrida on corrida.id = tempo_por_parada.corrida_id inner join resultado on tempo_por_parada.corrida_id = resultado.corrida_id and tempo_por_parada.piloto_id = resultado.piloto_id inner join equipe on  resultado.equipe_id = equipe.id   group by temporada_ano, equipe.nome \", cnx )\n",
    "print(q4)"
   ]
  },
  {
   "cell_type": "code",
   "execution_count": 116,
   "metadata": {},
   "outputs": [
    {
     "name": "stdout",
     "output_type": "stream",
     "text": [
      "      apelido  total_pontos\n",
      "0  hulkenberg           405\n"
     ]
    }
   ],
   "source": [
    "#Etapa1\n",
    "#Piloto que mais pontuou daqueles que nunca subiram no pódio\n",
    "#----piloto não pode ter subido no pódio em sua carreira da Fórmula 1 para entrar nesse grupo\n",
    "\n",
    "q5 = pd.read_sql_query(\"select piloto.apelido, sum(pontuacao) as total_pontos from resultado inner join piloto on piloto.id = resultado.piloto_id where resultado.piloto_id not in (SELECT distinct piloto_id from resultado where posicao < 4 )  group by piloto.apelido order by total_pontos desc limit 1  \", cnx )\n",
    "print(q5)\n"
   ]
  },
  {
   "cell_type": "code",
   "execution_count": 159,
   "metadata": {},
   "outputs": [
    {
     "name": "stdout",
     "output_type": "stream",
     "text": [
      "   temporada_ano  total_pontos\n",
      "0           2017        1794.0\n",
      "1           2016        2063.0\n",
      "2           2015        1838.0\n",
      "3           2014        1939.0\n",
      "4           2013        1851.0\n",
      "5           2012        1882.0\n",
      "6           2011        1777.0\n",
      "7           2010        1846.0\n",
      "8           2009         530.0\n",
      "9           2008         493.0\n"
     ]
    }
   ],
   "source": [
    "#Etapa1\n",
    "#Pontuação mediana por temporada dos 20 melhores pilotos das últimas 10 temporadas // media de pontos por temporada\n",
    "\n",
    "q6 = pd.read_sql_query(\"select temporada_ano, sum(pontuacao) total_pontos from (SELECT piloto_id, sum(pontuacao) total_pontos FROM Corrida inner join resultado on corrida.id = resultado.corrida_id where temporada_ano between 2009 and 2018 group by piloto_id order by total_pontos desc limit 20) vinte_melhores inner join resultado on resultado.piloto_id = vinte_melhores.piloto_id inner join Corrida on corrida.id = resultado.corrida_id inner join piloto on resultado.piloto_id = piloto.id group by temporada_ano order by temporada_ano desc limit 10 \", cnx )\n",
    "print(q6)"
   ]
  },
  {
   "cell_type": "code",
   "execution_count": 163,
   "metadata": {},
   "outputs": [
    {
     "name": "stdout",
     "output_type": "stream",
     "text": [
      "   temporada_ano  total_pontos  total_corridas_temporada  media_por_corrida\n",
      "0           2017        1794.0                        20          89.000000\n",
      "1           2016        2063.0                        21          98.000000\n",
      "2           2015        1838.0                        19          96.000000\n",
      "3           2014        1939.0                        19         102.000000\n",
      "4           2013        1851.0                        19          97.000000\n",
      "5           2012        1882.0                        20          94.000000\n",
      "6           2011        1777.0                        19          93.000000\n",
      "7           2010        1846.0                        19          97.000000\n",
      "8           2009         530.0                        17          31.176471\n",
      "9           2008         493.0                        18          27.000000\n"
     ]
    }
   ],
   "source": [
    "#Etapa1\n",
    "#Pontuação mediana por temporada dos 20 melhores pilotos das últimas 10 temporadas // media de pontos por corrida\n",
    "\n",
    "q6a = pd.read_sql_query(\"select temporada_ano, sum(pontuacao) total_pontos, count( distinct corrida_id) total_corridas_temporada , sum(pontuacao)/count( distinct corrida_id) media_por_corrida  from (SELECT piloto_id, sum(pontuacao) total_pontos FROM Corrida inner join resultado on corrida.id = resultado.corrida_id where temporada_ano between 2009 and 2018 group by piloto_id order by total_pontos desc limit 20) vinte_melhores inner join resultado on resultado.piloto_id = vinte_melhores.piloto_id inner join Corrida on corrida.id = resultado.corrida_id inner join piloto on resultado.piloto_id = piloto.id group by temporada_ano order by temporada_ano desc limit 10 \", cnx )\n",
    "print(q6a)\n",
    "\n"
   ]
  },
  {
   "cell_type": "code",
   "execution_count": 235,
   "metadata": {
    "scrolled": true
   },
   "outputs": [],
   "source": [
    "#Etapa2\n",
    "#A extração será feita sob a base de dados do histórico de corridas de Fórmula 1 \n",
    "#e o carregamento deve gerar um arquivo no formato Parquet para cada tabela.\n",
    "\n",
    "#leio todas as tabelas da Base de dados Formula 1 - SQLite3\n",
    "tabelas = pd.read_sql_query(\"SELECT name FROM sqlite_master WHERE type='table'\", cnx )\n",
    "\n",
    "import fastparquet\n",
    "\n",
    "#loop para cada linha da tabela\n",
    "for index,row in tabelas.iterrows():\n",
    "    sql = \"select * from \" + row[\"name\"] #seto comando sql \n",
    "    arq_parquet = row[\"name\"]+\".parquet.gzip\" # seto nome do arquivo\n",
    "    df = pd.read_sql_query(sql, cnx ) # crio dataframe\n",
    "    #inicio tratamento de conversao de algumas colunas\n",
    "    if row[\"name\"] == \"resultado\":\n",
    "        df['tempo'] = df['tempo'].astype('str')\n",
    "        df['volta_rapida_velocidade'] = df['volta_rapida_velocidade'].astype('str')\n",
    "    if row[\"name\"] == \"tempo_por_parada\":\n",
    "        df['duracao'] = df['duracao'].astype('str')\n",
    "    if row[\"name\"] == \"historico_piloto\" or row[\"name\"] == \"historico_equipe\" :\n",
    "        df['posicao_rotulo'] = df['posicao_rotulo'].astype('str')\n",
    "    #fim do tratamento\n",
    "    #crio arquivo parquet\n",
    "    df.to_parquet(arq_parquet,\n",
    "                     compression='gzip') \n",
    "# fim do loop\n",
    "\n",
    "\n",
    "\n",
    "\n"
   ]
  },
  {
   "cell_type": "code",
   "execution_count": 230,
   "metadata": {},
   "outputs": [],
   "source": [
    "cnx.close()"
   ]
  },
  {
   "cell_type": "code",
   "execution_count": null,
   "metadata": {},
   "outputs": [],
   "source": []
  }
 ],
 "metadata": {
  "kernelspec": {
   "display_name": "Python 3",
   "language": "python",
   "name": "python3"
  },
  "language_info": {
   "codemirror_mode": {
    "name": "ipython",
    "version": 3
   },
   "file_extension": ".py",
   "mimetype": "text/x-python",
   "name": "python",
   "nbconvert_exporter": "python",
   "pygments_lexer": "ipython3",
   "version": "3.7.1"
  }
 },
 "nbformat": 4,
 "nbformat_minor": 2
}
